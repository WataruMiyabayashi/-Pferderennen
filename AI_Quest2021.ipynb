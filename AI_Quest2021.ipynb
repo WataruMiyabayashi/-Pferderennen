{
  "nbformat": 4,
  "nbformat_minor": 0,
  "metadata": {
    "colab": {
      "name": "Untitled4.ipynb",
      "provenance": [],
      "collapsed_sections": [],
      "toc_visible": true,
      "authorship_tag": "ABX9TyOzJMFyERmofg0ODp9pT3Mk",
      "include_colab_link": true
    },
    "kernelspec": {
      "name": "python3",
      "display_name": "Python 3"
    },
    "language_info": {
      "name": "python"
    }
  },
  "cells": [
    {
      "cell_type": "markdown",
      "metadata": {
        "id": "view-in-github",
        "colab_type": "text"
      },
      "source": [
        "<a href=\"https://colab.research.google.com/github/WataruMiyabayashi/-Pferderennen/blob/main/AI_Quest2021.ipynb\" target=\"_parent\"><img src=\"https://colab.research.google.com/assets/colab-badge.svg\" alt=\"Open In Colab\"/></a>"
      ]
    },
    {
      "cell_type": "markdown",
      "metadata": {
        "id": "RJwSvwcdKFcY"
      },
      "source": [
        "\n",
        "\n",
        "> インデントされたブロック\n",
        "\n"
      ]
    },
    {
      "cell_type": "markdown",
      "metadata": {
        "id": "ET8JPuMHKJMT"
      },
      "source": [
        "欠損値補間してlightgbm＋one_hot\n"
      ]
    },
    {
      "cell_type": "code",
      "metadata": {
        "id": "H4594kwio2NI"
      },
      "source": [
        "import pandas as pd \n",
        "from matplotlib import pyplot as plt\n",
        "import numpy as np"
      ],
      "execution_count": 64,
      "outputs": []
    },
    {
      "cell_type": "markdown",
      "metadata": {
        "id": "QyJLXqSZzgvZ"
      },
      "source": [
        "trainデータを読み込む"
      ]
    },
    {
      "cell_type": "code",
      "metadata": {
        "id": "rgZrL-m5qKrk"
      },
      "source": [
        "sample = pd.read_csv('train.csv')"
      ],
      "execution_count": 65,
      "outputs": []
    },
    {
      "cell_type": "code",
      "metadata": {
        "colab": {
          "base_uri": "https://localhost:8080/"
        },
        "id": "nT6ugt4AqKvC",
        "outputId": "1e7d1741-6194-4652-ff27-44a54c2f06f4"
      },
      "source": [
        "print(sample.shape)"
      ],
      "execution_count": 66,
      "outputs": [
        {
          "output_type": "stream",
          "text": [
            "(55583, 29)\n"
          ],
          "name": "stdout"
        }
      ]
    },
    {
      "cell_type": "code",
      "metadata": {
        "colab": {
          "base_uri": "https://localhost:8080/"
        },
        "id": "fYK6q25iqKyq",
        "outputId": "cd83b618-54ba-400d-c16c-e13c77d4a4cd"
      },
      "source": [
        "#実際のデータ型\n",
        "print(sample.info())"
      ],
      "execution_count": 67,
      "outputs": [
        {
          "output_type": "stream",
          "text": [
            "<class 'pandas.core.frame.DataFrame'>\n",
            "RangeIndex: 55583 entries, 0 to 55582\n",
            "Data columns (total 29 columns):\n",
            " #   Column                  Non-Null Count  Dtype  \n",
            "---  ------                  --------------  -----  \n",
            " 0   id                      55583 non-null  int64  \n",
            " 1   accommodates            55583 non-null  int64  \n",
            " 2   amenities               55583 non-null  object \n",
            " 3   bathrooms               55436 non-null  float64\n",
            " 4   bed_type                55583 non-null  object \n",
            " 5   bedrooms                55512 non-null  float64\n",
            " 6   beds                    55487 non-null  float64\n",
            " 7   cancellation_policy     55583 non-null  object \n",
            " 8   city                    55583 non-null  object \n",
            " 9   cleaning_fee            55583 non-null  object \n",
            " 10  description             55583 non-null  object \n",
            " 11  first_review            43675 non-null  object \n",
            " 12  host_has_profile_pic    55435 non-null  object \n",
            " 13  host_identity_verified  55435 non-null  object \n",
            " 14  host_response_rate      41879 non-null  object \n",
            " 15  host_since              55435 non-null  object \n",
            " 16  instant_bookable        55583 non-null  object \n",
            " 17  last_review             43703 non-null  object \n",
            " 18  latitude                55583 non-null  float64\n",
            " 19  longitude               55583 non-null  float64\n",
            " 20  name                    55583 non-null  object \n",
            " 21  neighbourhood           50423 non-null  object \n",
            " 22  number_of_reviews       55583 non-null  int64  \n",
            " 23  property_type           55583 non-null  object \n",
            " 24  review_scores_rating    43027 non-null  float64\n",
            " 25  room_type               55583 non-null  object \n",
            " 26  thumbnail_url           49438 non-null  object \n",
            " 27  zipcode                 54867 non-null  object \n",
            " 28  y                       55583 non-null  float64\n",
            "dtypes: float64(7), int64(3), object(19)\n",
            "memory usage: 12.3+ MB\n",
            "None\n"
          ],
          "name": "stdout"
        }
      ]
    },
    {
      "cell_type": "markdown",
      "metadata": {
        "id": "mAfaF9Ef0R6A"
      },
      "source": [
        "欠損値削除"
      ]
    },
    {
      "cell_type": "code",
      "metadata": {
        "id": "U9eko_bmqK17"
      },
      "source": [
        ""
      ],
      "execution_count": 67,
      "outputs": []
    },
    {
      "cell_type": "code",
      "metadata": {
        "id": "TYN97s-oqK44"
      },
      "source": [
        "sample = sample.dropna(subset=['beds'])\n",
        "sample = sample.dropna(subset=['bedrooms'])\n",
        "sample = sample.dropna(subset=['bathrooms'])\n",
        "sample=sample.dropna(subset=['host_identity_verified'])\n",
        "sample=sample.dropna(subset=['host_has_profile_pic'])\n",
        "sample=sample.dropna(subset=['host_since'])\n",
        "sample=sample.dropna(subset=['zipcode'])"
      ],
      "execution_count": 68,
      "outputs": []
    },
    {
      "cell_type": "code",
      "metadata": {
        "id": "GcWLwNMHqK7x"
      },
      "source": [
        ""
      ],
      "execution_count": 68,
      "outputs": []
    },
    {
      "cell_type": "markdown",
      "metadata": {
        "id": "4mOvEPhP0xA8"
      },
      "source": [
        "欠損値の補完　平均値の算出"
      ]
    },
    {
      "cell_type": "code",
      "metadata": {
        "id": "9U4TxfaTqK_1"
      },
      "source": [
        ""
      ],
      "execution_count": 68,
      "outputs": []
    },
    {
      "cell_type": "code",
      "metadata": {
        "id": "7eDOGDmQqLB4"
      },
      "source": [
        "mode_val_host = sample['first_review'].mode().iloc[0]\n",
        "sample['first_review'] = sample['first_review'].fillna(mode_val_host)"
      ],
      "execution_count": 69,
      "outputs": []
    },
    {
      "cell_type": "code",
      "metadata": {
        "id": "gVu3h1PaqLEy"
      },
      "source": [
        "mode_val_host= sample['host_response_rate'].mode().iloc[0]\n",
        "sample['host_response_rate'] = sample['host_response_rate'].fillna(mode_val_host)"
      ],
      "execution_count": 70,
      "outputs": []
    },
    {
      "cell_type": "code",
      "metadata": {
        "id": "2GrlKc7sqLIA"
      },
      "source": [
        "mode_val_last = sample['last_review'].mode().iloc[0]\n",
        "sample['last_review'] = sample['last_review'].fillna(mode_val_last)"
      ],
      "execution_count": 71,
      "outputs": []
    },
    {
      "cell_type": "code",
      "metadata": {
        "id": "GRkgWGdQqLLA"
      },
      "source": [
        "mode_val_neighbour = sample['neighbourhood'].mode().iloc[0]\n",
        "sample['neighbourhood'] = sample['neighbourhood'].fillna(mode_val_neighbour)"
      ],
      "execution_count": 72,
      "outputs": []
    },
    {
      "cell_type": "code",
      "metadata": {
        "id": "ISPrsm-QqLOY"
      },
      "source": [
        "mean_val_scores = sample['review_scores_rating'].mean()\n",
        "sample['review_scores_rating'] = sample['review_scores_rating'].fillna(mean_val_scores)"
      ],
      "execution_count": 73,
      "outputs": []
    },
    {
      "cell_type": "code",
      "metadata": {
        "id": "786t5WMxqLRi"
      },
      "source": [
        "mode_val_thumbnail = sample['thumbnail_url'].mode().iloc[0]\n",
        "sample['thumbnail_url'] = sample['thumbnail_url'].fillna(mode_val_thumbnail)"
      ],
      "execution_count": 74,
      "outputs": []
    },
    {
      "cell_type": "code",
      "metadata": {
        "id": "nFoJKNP4qLUx"
      },
      "source": [
        "y = sample['y']"
      ],
      "execution_count": 75,
      "outputs": []
    },
    {
      "cell_type": "code",
      "metadata": {
        "colab": {
          "base_uri": "https://localhost:8080/",
          "height": 589
        },
        "id": "Rgzwq-_CqLXo",
        "outputId": "ab481c7f-d30f-4c9d-b8eb-c962a558eb61"
      },
      "source": [
        "# ヒストグラムの可視化\n",
        "y.plot.hist(title=\"宿泊価格\")"
      ],
      "execution_count": 76,
      "outputs": [
        {
          "output_type": "execute_result",
          "data": {
            "text/plain": [
              "<matplotlib.axes._subplots.AxesSubplot at 0x7fa56a8c3c90>"
            ]
          },
          "metadata": {
            "tags": []
          },
          "execution_count": 76
        },
        {
          "output_type": "stream",
          "text": [
            "/usr/local/lib/python3.7/dist-packages/matplotlib/backends/backend_agg.py:214: RuntimeWarning: Glyph 23487 missing from current font.\n",
            "  font.set_text(s, 0.0, flags=flags)\n",
            "/usr/local/lib/python3.7/dist-packages/matplotlib/backends/backend_agg.py:214: RuntimeWarning: Glyph 27850 missing from current font.\n",
            "  font.set_text(s, 0.0, flags=flags)\n",
            "/usr/local/lib/python3.7/dist-packages/matplotlib/backends/backend_agg.py:214: RuntimeWarning: Glyph 20385 missing from current font.\n",
            "  font.set_text(s, 0.0, flags=flags)\n",
            "/usr/local/lib/python3.7/dist-packages/matplotlib/backends/backend_agg.py:214: RuntimeWarning: Glyph 26684 missing from current font.\n",
            "  font.set_text(s, 0.0, flags=flags)\n",
            "/usr/local/lib/python3.7/dist-packages/matplotlib/backends/backend_agg.py:183: RuntimeWarning: Glyph 23487 missing from current font.\n",
            "  font.set_text(s, 0, flags=flags)\n",
            "/usr/local/lib/python3.7/dist-packages/matplotlib/backends/backend_agg.py:183: RuntimeWarning: Glyph 27850 missing from current font.\n",
            "  font.set_text(s, 0, flags=flags)\n",
            "/usr/local/lib/python3.7/dist-packages/matplotlib/backends/backend_agg.py:183: RuntimeWarning: Glyph 20385 missing from current font.\n",
            "  font.set_text(s, 0, flags=flags)\n",
            "/usr/local/lib/python3.7/dist-packages/matplotlib/backends/backend_agg.py:183: RuntimeWarning: Glyph 26684 missing from current font.\n",
            "  font.set_text(s, 0, flags=flags)\n"
          ],
          "name": "stderr"
        },
        {
          "output_type": "display_data",
          "data": {
            "image/png": "[encoded data removed]",
            "text/plain": [
              "<Figure size 432x288 with 1 Axes>"
            ]
          },
          "metadata": {
            "tags": [],
            "needs_background": "light"
          }
        }
      ]
    },
    {
      "cell_type": "markdown",
      "metadata": {
        "id": "JWN8xitR236Q"
      },
      "source": [
        "外れ値の削除"
      ]
    },
    {
      "cell_type": "code",
      "metadata": {
        "id": "-ffwX6wdqLax"
      },
      "source": [
        "sample = sample[sample['y']>=10]"
      ],
      "execution_count": 77,
      "outputs": []
    },
    {
      "cell_type": "code",
      "metadata": {
        "id": "takLLHoCqLdy"
      },
      "source": [
        "import seaborn as sns"
      ],
      "execution_count": 78,
      "outputs": []
    },
    {
      "cell_type": "markdown",
      "metadata": {
        "id": "YxfXj0OX6pwT"
      },
      "source": [
        "カラム選択"
      ]
    },
    {
      "cell_type": "code",
      "metadata": {
        "id": "DMxpO_2TqLgw"
      },
      "source": [
        "select_columns = ['accommodates','room_type','bed_type','bathrooms','bedrooms','beds','review_scores_rating','number_of_reviews','cleaning_fee']"
      ],
      "execution_count": 79,
      "outputs": []
    },
    {
      "cell_type": "code",
      "metadata": {
        "colab": {
          "base_uri": "https://localhost:8080/"
        },
        "id": "Ib_GYoXAqLj4",
        "outputId": "ff50a129-445e-40c3-bdfc-70b880825b71"
      },
      "source": [
        "print(sample[select_columns])"
      ],
      "execution_count": 80,
      "outputs": [
        {
          "output_type": "stream",
          "text": [
            "       accommodates        room_type  ... number_of_reviews  cleaning_fee\n",
            "0                 6     Private room  ...                 1             t\n",
            "1                 2     Private room  ...                 9             t\n",
            "3                 2     Private room  ...                38             t\n",
            "4                 2  Entire home/apt  ...                 5             t\n",
            "5                 2     Private room  ...                 7             t\n",
            "...             ...              ...  ...               ...           ...\n",
            "55578             4  Entire home/apt  ...               110             t\n",
            "55579             2     Private room  ...                 6             f\n",
            "55580             2     Private room  ...                14             t\n",
            "55581             1     Private room  ...                10             t\n",
            "55582             1     Private room  ...                 0             f\n",
            "\n",
            "[54470 rows x 9 columns]\n"
          ],
          "name": "stdout"
        }
      ]
    },
    {
      "cell_type": "code",
      "metadata": {
        "id": "d_c8LCZdqLnA"
      },
      "source": [
        "def change_tf(x):\n",
        "    if x=='t':\n",
        "        return 1\n",
        "    elif x=='f':\n",
        "        return 0"
      ],
      "execution_count": 81,
      "outputs": []
    },
    {
      "cell_type": "code",
      "metadata": {
        "id": "lliAn_cPqLp7"
      },
      "source": [
        "sample['cleaning_fee'] = sample['cleaning_fee'].apply(change_tf)"
      ],
      "execution_count": 82,
      "outputs": []
    },
    {
      "cell_type": "code",
      "metadata": {
        "id": "6w93Fac_qLsp"
      },
      "source": [
        "sample['host_identity_verified'] = sample['host_identity_verified'].apply(change_tf)"
      ],
      "execution_count": 83,
      "outputs": []
    },
    {
      "cell_type": "code",
      "metadata": {
        "id": "SC9G2IFW7A-z"
      },
      "source": [
        "sample['instant_bookable'] = sample['instant_bookable'].apply(change_tf)"
      ],
      "execution_count": 84,
      "outputs": []
    },
    {
      "cell_type": "markdown",
      "metadata": {
        "id": "ViAj6v1X7SfR"
      },
      "source": [
        "ダミー変数化"
      ]
    },
    {
      "cell_type": "code",
      "metadata": {
        "id": "ACSTP9bG7D_e"
      },
      "source": [
        "select_columns =['accommodates','room_type','bed_type','bathrooms','bedrooms','beds','review_scores_rating','number_of_reviews','cleaning_fee']"
      ],
      "execution_count": 85,
      "outputs": []
    },
    {
      "cell_type": "code",
      "metadata": {
        "id": "uPCNPVtl7cM0"
      },
      "source": [
        "data_entire = sample[sample['room_type'] == 'Entire home/apt']\n",
        "data_private = sample[sample['room_type'] == 'Private room']\n",
        "data_share = sample[sample['room_type'] == 'Shared room']\n"
      ],
      "execution_count": 23,
      "outputs": []
    },
    {
      "cell_type": "code",
      "metadata": {
        "id": "Vbs-8naL7foX"
      },
      "source": [
        "dummy_data_entire = pd.get_dummies(data_entire[select_columns], drop_first=True)\n",
        "dummy_data_private = pd.get_dummies(data_private[select_columns],drop_first=True)\n",
        "dummy_data_share = pd.get_dummies(data_share[select_columns], drop_first=True)"
      ],
      "execution_count": 24,
      "outputs": []
    },
    {
      "cell_type": "code",
      "metadata": {
        "id": "TduoemudORw9"
      },
      "source": [
        "dummy_data = pd.get_dummies(sample[select_columns], drop_first=True)"
      ],
      "execution_count": null,
      "outputs": []
    },
    {
      "cell_type": "markdown",
      "metadata": {
        "id": "L915xPtSMKek"
      },
      "source": [
        "ダミー変数化　label"
      ]
    },
    {
      "cell_type": "code",
      "metadata": {
        "colab": {
          "base_uri": "https://localhost:8080/"
        },
        "id": "MDKbblrWP8Cb",
        "outputId": "9b610b82-d539-44e5-ed8b-e698e64ca36b"
      },
      "source": [
        "pip install category_encoders"
      ],
      "execution_count": 87,
      "outputs": [
        {
          "output_type": "stream",
          "text": [
            "Collecting category_encoders\n",
            "  Downloading category_encoders-2.2.2-py2.py3-none-any.whl (80 kB)\n",
            "\u001b[?25l\r\u001b[K     |████                            | 10 kB 19.5 MB/s eta 0:00:01\r\u001b[K     |████████▏                       | 20 kB 24.9 MB/s eta 0:00:01\r\u001b[K     |████████████▏                   | 30 kB 23.7 MB/s eta 0:00:01\r\u001b[K     |████████████████▎               | 40 kB 18.7 MB/s eta 0:00:01\r\u001b[K     |████████████████████▎           | 51 kB 7.1 MB/s eta 0:00:01\r\u001b[K     |████████████████████████▍       | 61 kB 7.6 MB/s eta 0:00:01\r\u001b[K     |████████████████████████████▍   | 71 kB 7.6 MB/s eta 0:00:01\r\u001b[K     |████████████████████████████████| 80 kB 4.5 MB/s \n",
            "\u001b[?25hRequirement already satisfied: scipy>=1.0.0 in /usr/local/lib/python3.7/dist-packages (from category_encoders) (1.4.1)\n",
            "Requirement already satisfied: scikit-learn>=0.20.0 in /usr/local/lib/python3.7/dist-packages (from category_encoders) (0.22.2.post1)\n",
            "Requirement already satisfied: patsy>=0.5.1 in /usr/local/lib/python3.7/dist-packages (from category_encoders) (0.5.1)\n",
            "Requirement already satisfied: numpy>=1.14.0 in /usr/local/lib/python3.7/dist-packages (from category_encoders) (1.19.5)\n",
            "Requirement already satisfied: pandas>=0.21.1 in /usr/local/lib/python3.7/dist-packages (from category_encoders) (1.1.5)\n",
            "Requirement already satisfied: statsmodels>=0.9.0 in /usr/local/lib/python3.7/dist-packages (from category_encoders) (0.10.2)\n",
            "Requirement already satisfied: python-dateutil>=2.7.3 in /usr/local/lib/python3.7/dist-packages (from pandas>=0.21.1->category_encoders) (2.8.1)\n",
            "Requirement already satisfied: pytz>=2017.2 in /usr/local/lib/python3.7/dist-packages (from pandas>=0.21.1->category_encoders) (2018.9)\n",
            "Requirement already satisfied: six in /usr/local/lib/python3.7/dist-packages (from patsy>=0.5.1->category_encoders) (1.15.0)\n",
            "Requirement already satisfied: joblib>=0.11 in /usr/local/lib/python3.7/dist-packages (from scikit-learn>=0.20.0->category_encoders) (1.0.1)\n",
            "Installing collected packages: category-encoders\n",
            "Successfully installed category-encoders-2.2.2\n"
          ],
          "name": "stdout"
        }
      ]
    },
    {
      "cell_type": "code",
      "metadata": {
        "colab": {
          "base_uri": "https://localhost:8080/"
        },
        "id": "Kd5Iat-GMyAN",
        "outputId": "82187748-aee5-49ee-b4e5-6c6cb755db14"
      },
      "source": [
        "import category_encoders as ce"
      ],
      "execution_count": 88,
      "outputs": [
        {
          "output_type": "stream",
          "text": [
            "/usr/local/lib/python3.7/dist-packages/statsmodels/tools/_testing.py:19: FutureWarning: pandas.util.testing is deprecated. Use the functions in the public API at pandas.testing instead.\n",
            "  import pandas.util.testing as tm\n"
          ],
          "name": "stderr"
        }
      ]
    },
    {
      "cell_type": "code",
      "metadata": {
        "id": "-V1N-yW6MIpF"
      },
      "source": [
        "\n",
        "ce_oe = ce.OrdinalEncoder(cols=select_columns,handle_unknown='impute')"
      ],
      "execution_count": 106,
      "outputs": []
    },
    {
      "cell_type": "code",
      "metadata": {
        "colab": {
          "base_uri": "https://localhost:8080/"
        },
        "id": "3Z1b7Q3KMIl2",
        "outputId": "4a002fbc-b218-469b-ccfa-088ed05a70a6"
      },
      "source": [
        "dummy_data = ce_oe.fit_transform(sample)"
      ],
      "execution_count": 107,
      "outputs": [
        {
          "output_type": "stream",
          "text": [
            "/usr/local/lib/python3.7/dist-packages/category_encoders/utils.py:21: FutureWarning: is_categorical is deprecated and will be removed in a future version.  Use is_categorical_dtype instead\n",
            "  elif pd.api.types.is_categorical(cols):\n"
          ],
          "name": "stderr"
        }
      ]
    },
    {
      "cell_type": "code",
      "metadata": {
        "id": "IxpejG7JMIir"
      },
      "source": [
        "for i in select_columns:\n",
        "    dummy_data[i] = dummy_data[i] - 1"
      ],
      "execution_count": 108,
      "outputs": []
    },
    {
      "cell_type": "code",
      "metadata": {
        "id": "8FUHvEBkMILd"
      },
      "source": [
        "dummy_data=dummy_data[select_columns]"
      ],
      "execution_count": 109,
      "outputs": []
    },
    {
      "cell_type": "code",
      "metadata": {
        "id": "sGh04ibS8Ao-"
      },
      "source": [
        "from sklearn.model_selection import train_test_split"
      ],
      "execution_count": 110,
      "outputs": []
    },
    {
      "cell_type": "code",
      "metadata": {
        "id": "Z2zBS0nl7vOV"
      },
      "source": [
        "X_train,X_test,y_train,y_test = train_test_split(dummy_data, sample['y'], random_state = 1234,test_size=0.25)"
      ],
      "execution_count": 111,
      "outputs": []
    },
    {
      "cell_type": "markdown",
      "metadata": {
        "id": "haMiPb5V9OvP"
      },
      "source": [
        "lightgbm"
      ]
    },
    {
      "cell_type": "code",
      "metadata": {
        "id": "LvCxbdhH8nv7"
      },
      "source": [
        "import matplotlib.pyplot as plt\n",
        "import lightgbm as lgb"
      ],
      "execution_count": 112,
      "outputs": []
    },
    {
      "cell_type": "code",
      "metadata": {
        "id": "b1SykXuD8nzc"
      },
      "source": [
        "lgb_train = lgb.Dataset(X_train, y_train)\n",
        "lgb_eval = lgb.Dataset(X_test, y_test)"
      ],
      "execution_count": 113,
      "outputs": []
    },
    {
      "cell_type": "code",
      "metadata": {
        "id": "J_7XglLI8n2j"
      },
      "source": [
        "params = {'metric': 'rmse',\n",
        "          'max_depth' : 12}"
      ],
      "execution_count": 114,
      "outputs": []
    },
    {
      "cell_type": "code",
      "metadata": {
        "colab": {
          "base_uri": "https://localhost:8080/"
        },
        "id": "aIcTpZMJ8n5b",
        "outputId": "98f5340a-dfcb-4300-98cf-00e4aad8b167"
      },
      "source": [
        "gbm = lgb.train(params,\n",
        "                lgb_train,\n",
        "                valid_sets=lgb_eval,\n",
        "                num_boost_round=10000,\n",
        "                early_stopping_rounds=100,\n",
        "                verbose_eval=50)"
      ],
      "execution_count": 115,
      "outputs": [
        {
          "output_type": "stream",
          "text": [
            "Training until validation scores don't improve for 100 rounds.\n",
            "[50]\tvalid_0's rmse: 128.908\n",
            "[100]\tvalid_0's rmse: 129.323\n",
            "Early stopping, best iteration is:\n",
            "[44]\tvalid_0's rmse: 128.853\n"
          ],
          "name": "stdout"
        }
      ]
    },
    {
      "cell_type": "code",
      "metadata": {
        "colab": {
          "base_uri": "https://localhost:8080/"
        },
        "id": "tnGM5UJo_H1P",
        "outputId": "bef26683-79c9-41c0-c081-126e13e39fb7"
      },
      "source": [
        "print(dummy_data.info())"
      ],
      "execution_count": 101,
      "outputs": [
        {
          "output_type": "stream",
          "text": [
            "<class 'pandas.core.frame.DataFrame'>\n",
            "Int64Index: 54470 entries, 0 to 55582\n",
            "Data columns (total 9 columns):\n",
            " #   Column                Non-Null Count  Dtype\n",
            "---  ------                --------------  -----\n",
            " 0   accommodates          54470 non-null  int64\n",
            " 1   room_type             54470 non-null  int64\n",
            " 2   bed_type              54470 non-null  int64\n",
            " 3   bathrooms             54470 non-null  int64\n",
            " 4   bedrooms              54470 non-null  int64\n",
            " 5   beds                  54470 non-null  int64\n",
            " 6   review_scores_rating  54470 non-null  int64\n",
            " 7   number_of_reviews     54470 non-null  int64\n",
            " 8   cleaning_fee          54470 non-null  int64\n",
            "dtypes: int64(9)\n",
            "memory usage: 4.2 MB\n",
            "None\n"
          ],
          "name": "stdout"
        }
      ]
    },
    {
      "cell_type": "code",
      "metadata": {
        "id": "ksbvmEEe8n8N"
      },
      "source": [
        "predicted = gbm.predict(X_test)"
      ],
      "execution_count": 116,
      "outputs": []
    },
    {
      "cell_type": "code",
      "metadata": {
        "id": "GDiXfQps90NR"
      },
      "source": [
        "from sklearn.metrics import mean_squared_error\n",
        "from sklearn.metrics import r2_score\n",
        " \n",
        "#予測値と正解値を描写する関数\n",
        "def True_Pred_map(pred_df):\n",
        "    RMSE = np.sqrt(mean_squared_error(pred_df['true'], pred_df['pred']))\n",
        "    R2 = r2_score(pred_df['true'], pred_df['pred']) \n",
        "    plt.figure(figsize=(8,8))\n",
        "    ax = plt.subplot(111)\n",
        "    ax.scatter('true', 'pred', data=pred_df)\n",
        "    ax.set_xlabel('True Value', fontsize=15)\n",
        "    ax.set_ylabel('Pred Value', fontsize=15)\n",
        "    ax.set_xlim(pred_df.min().min()-0.1 , pred_df.max().max()+0.1)\n",
        "    ax.set_ylim(pred_df.min().min()-0.1 , pred_df.max().max()+0.1)\n",
        "    x = np.linspace(pred_df.min().min()-0.1, pred_df.max().max()+0.1, 2)\n",
        "    y = x\n",
        "    ax.plot(x,y,'r-')\n",
        "    plt.text(0.1, 0.9, 'RMSE = {}'.format(str(round(RMSE, 5))), transform=ax.transAxes, fontsize=15)\n",
        "    plt.text(0.1, 0.8, 'R^2 = {}'.format(str(round(R2, 5))), transform=ax.transAxes, fontsize=15)"
      ],
      "execution_count": 117,
      "outputs": []
    },
    {
      "cell_type": "code",
      "metadata": {
        "id": "EmS9qw3Y8n_E"
      },
      "source": [
        "pred_df = pd.concat([y_test.reset_index(drop=True), pd.Series(predicted)], axis=1)\n",
        "pred_df.columns = ['true', 'pred']"
      ],
      "execution_count": 118,
      "outputs": []
    },
    {
      "cell_type": "code",
      "metadata": {
        "colab": {
          "base_uri": "https://localhost:8080/",
          "height": 206
        },
        "id": "L0BUcEXG8oB9",
        "outputId": "0fbf48b3-3615-46ca-e75c-b329a971dca6"
      },
      "source": [
        "pred_df.head()"
      ],
      "execution_count": 119,
      "outputs": [
        {
          "output_type": "execute_result",
          "data": {
            "text/html": [
              "<div>\n",
              "<style scoped>\n",
              "    .dataframe tbody tr th:only-of-type {\n",
              "        vertical-align: middle;\n",
              "    }\n",
              "\n",
              "    .dataframe tbody tr th {\n",
              "        vertical-align: top;\n",
              "    }\n",
              "\n",
              "    .dataframe thead th {\n",
              "        text-align: right;\n",
              "    }\n",
              "</style>\n",
              "<table border=\"1\" class=\"dataframe\">\n",
              "  <thead>\n",
              "    <tr style=\"text-align: right;\">\n",
              "      <th></th>\n",
              "      <th>true</th>\n",
              "      <th>pred</th>\n",
              "    </tr>\n",
              "  </thead>\n",
              "  <tbody>\n",
              "    <tr>\n",
              "      <th>0</th>\n",
              "      <td>90.0</td>\n",
              "      <td>143.858681</td>\n",
              "    </tr>\n",
              "    <tr>\n",
              "      <th>1</th>\n",
              "      <td>89.0</td>\n",
              "      <td>130.714056</td>\n",
              "    </tr>\n",
              "    <tr>\n",
              "      <th>2</th>\n",
              "      <td>300.0</td>\n",
              "      <td>111.692405</td>\n",
              "    </tr>\n",
              "    <tr>\n",
              "      <th>3</th>\n",
              "      <td>80.0</td>\n",
              "      <td>78.666314</td>\n",
              "    </tr>\n",
              "    <tr>\n",
              "      <th>4</th>\n",
              "      <td>130.0</td>\n",
              "      <td>152.500325</td>\n",
              "    </tr>\n",
              "  </tbody>\n",
              "</table>\n",
              "</div>"
            ],
            "text/plain": [
              "    true        pred\n",
              "0   90.0  143.858681\n",
              "1   89.0  130.714056\n",
              "2  300.0  111.692405\n",
              "3   80.0   78.666314\n",
              "4  130.0  152.500325"
            ]
          },
          "metadata": {
            "tags": []
          },
          "execution_count": 119
        }
      ]
    },
    {
      "cell_type": "code",
      "metadata": {
        "colab": {
          "base_uri": "https://localhost:8080/",
          "height": 502
        },
        "id": "QGY4i_QB8oEu",
        "outputId": "159a6669-3e9d-4588-d445-ab6c08c371ff"
      },
      "source": [
        "True_Pred_map(pred_df)"
      ],
      "execution_count": 120,
      "outputs": [
        {
          "output_type": "display_data",
          "data": {
            "image/png": "[encoded data removed]",
            "text/plain": [
              "<Figure size 576x576 with 1 Axes>"
            ]
          },
          "metadata": {
            "tags": [],
            "needs_background": "light"
          }
        }
      ]
    },
    {
      "cell_type": "markdown",
      "metadata": {
        "id": "ufCiQO-A-VXt"
      },
      "source": [
        "max_depthの取る値を変化させてRmseとの関係を可視化してみる"
      ]
    },
    {
      "cell_type": "code",
      "metadata": {
        "colab": {
          "base_uri": "https://localhost:8080/"
        },
        "id": "2RPnyCHC-GpH",
        "outputId": "4f27676a-027a-4f63-c2cc-534fd2f63bff"
      },
      "source": [
        "RMSE_list = []\n",
        "count = []\n",
        "for i in range(1, 15):\n",
        "    params = {'boosting_type': 'gbdt',\n",
        "          'objective': 'regression',\n",
        "          'metric': 'rmse',\n",
        "          'max_depth' : i}\n",
        "    \n",
        "    gbm = lgb.train(params,\n",
        "                lgb_train,\n",
        "                num_boost_round=10000,\n",
        "                valid_sets=lgb_eval,\n",
        "                early_stopping_rounds=100,\n",
        "                verbose_eval=50)\n",
        "    \n",
        "    predicted = gbm.predict(X_test)\n",
        "    pred_df = pd.concat([y_test.reset_index(drop=True), pd.Series(predicted)], axis=1)\n",
        "    pred_df.columns = ['true', 'pred']\n",
        "    RMSE = np.sqrt(mean_squared_error(pred_df['true'], pred_df['pred']))\n",
        "    RMSE_list.append(RMSE)\n",
        "    count.append(i)"
      ],
      "execution_count": 121,
      "outputs": [
        {
          "output_type": "stream",
          "text": [
            "Training until validation scores don't improve for 100 rounds.\n",
            "[50]\tvalid_0's rmse: 142.096\n",
            "[100]\tvalid_0's rmse: 138.437\n",
            "[150]\tvalid_0's rmse: 136.769\n",
            "[200]\tvalid_0's rmse: 135.783\n",
            "[250]\tvalid_0's rmse: 135.174\n",
            "[300]\tvalid_0's rmse: 134.786\n",
            "[350]\tvalid_0's rmse: 134.533\n",
            "[400]\tvalid_0's rmse: 134.347\n",
            "[450]\tvalid_0's rmse: 134.191\n",
            "[500]\tvalid_0's rmse: 134.065\n",
            "[550]\tvalid_0's rmse: 133.94\n",
            "[600]\tvalid_0's rmse: 133.848\n",
            "[650]\tvalid_0's rmse: 133.767\n",
            "[700]\tvalid_0's rmse: 133.681\n",
            "[750]\tvalid_0's rmse: 133.62\n",
            "[800]\tvalid_0's rmse: 133.556\n",
            "[850]\tvalid_0's rmse: 133.5\n",
            "[900]\tvalid_0's rmse: 133.458\n",
            "[950]\tvalid_0's rmse: 133.407\n",
            "[1000]\tvalid_0's rmse: 133.365\n",
            "[1050]\tvalid_0's rmse: 133.318\n",
            "[1100]\tvalid_0's rmse: 133.28\n",
            "[1150]\tvalid_0's rmse: 133.248\n",
            "[1200]\tvalid_0's rmse: 133.213\n",
            "[1250]\tvalid_0's rmse: 133.178\n",
            "[1300]\tvalid_0's rmse: 133.133\n",
            "[1350]\tvalid_0's rmse: 133.106\n",
            "[1400]\tvalid_0's rmse: 133.068\n",
            "[1450]\tvalid_0's rmse: 133.028\n",
            "[1500]\tvalid_0's rmse: 132.987\n",
            "[1550]\tvalid_0's rmse: 132.958\n",
            "[1600]\tvalid_0's rmse: 132.931\n",
            "[1650]\tvalid_0's rmse: 132.895\n",
            "[1700]\tvalid_0's rmse: 132.872\n",
            "[1750]\tvalid_0's rmse: 132.842\n",
            "[1800]\tvalid_0's rmse: 132.799\n",
            "[1850]\tvalid_0's rmse: 132.781\n",
            "[1900]\tvalid_0's rmse: 132.758\n",
            "[1950]\tvalid_0's rmse: 132.728\n",
            "[2000]\tvalid_0's rmse: 132.711\n",
            "[2050]\tvalid_0's rmse: 132.683\n",
            "[2100]\tvalid_0's rmse: 132.667\n",
            "[2150]\tvalid_0's rmse: 132.64\n",
            "[2200]\tvalid_0's rmse: 132.624\n",
            "[2250]\tvalid_0's rmse: 132.601\n",
            "[2300]\tvalid_0's rmse: 132.577\n",
            "[2350]\tvalid_0's rmse: 132.562\n",
            "[2400]\tvalid_0's rmse: 132.536\n",
            "[2450]\tvalid_0's rmse: 132.509\n",
            "[2500]\tvalid_0's rmse: 132.493\n",
            "[2550]\tvalid_0's rmse: 132.479\n",
            "[2600]\tvalid_0's rmse: 132.463\n",
            "[2650]\tvalid_0's rmse: 132.442\n",
            "[2700]\tvalid_0's rmse: 132.428\n",
            "[2750]\tvalid_0's rmse: 132.405\n",
            "[2800]\tvalid_0's rmse: 132.391\n",
            "[2850]\tvalid_0's rmse: 132.379\n",
            "[2900]\tvalid_0's rmse: 132.364\n",
            "[2950]\tvalid_0's rmse: 132.355\n",
            "[3000]\tvalid_0's rmse: 132.337\n",
            "[3050]\tvalid_0's rmse: 132.329\n",
            "[3100]\tvalid_0's rmse: 132.324\n",
            "[3150]\tvalid_0's rmse: 132.308\n",
            "[3200]\tvalid_0's rmse: 132.295\n",
            "[3250]\tvalid_0's rmse: 132.285\n",
            "[3300]\tvalid_0's rmse: 132.277\n",
            "[3350]\tvalid_0's rmse: 132.27\n",
            "[3400]\tvalid_0's rmse: 132.257\n",
            "[3450]\tvalid_0's rmse: 132.247\n",
            "[3500]\tvalid_0's rmse: 132.239\n",
            "[3550]\tvalid_0's rmse: 132.227\n",
            "[3600]\tvalid_0's rmse: 132.218\n",
            "[3650]\tvalid_0's rmse: 132.208\n",
            "[3700]\tvalid_0's rmse: 132.195\n",
            "[3750]\tvalid_0's rmse: 132.191\n",
            "[3800]\tvalid_0's rmse: 132.181\n",
            "[3850]\tvalid_0's rmse: 132.171\n",
            "[3900]\tvalid_0's rmse: 132.165\n",
            "[3950]\tvalid_0's rmse: 132.153\n",
            "[4000]\tvalid_0's rmse: 132.143\n",
            "[4050]\tvalid_0's rmse: 132.137\n",
            "[4100]\tvalid_0's rmse: 132.128\n",
            "[4150]\tvalid_0's rmse: 132.121\n",
            "[4200]\tvalid_0's rmse: 132.111\n",
            "[4250]\tvalid_0's rmse: 132.105\n",
            "[4300]\tvalid_0's rmse: 132.097\n",
            "[4350]\tvalid_0's rmse: 132.086\n",
            "[4400]\tvalid_0's rmse: 132.079\n",
            "[4450]\tvalid_0's rmse: 132.069\n",
            "[4500]\tvalid_0's rmse: 132.063\n",
            "[4550]\tvalid_0's rmse: 132.06\n",
            "[4600]\tvalid_0's rmse: 132.05\n",
            "[4650]\tvalid_0's rmse: 132.042\n",
            "[4700]\tvalid_0's rmse: 132.035\n",
            "[4750]\tvalid_0's rmse: 132.032\n",
            "[4800]\tvalid_0's rmse: 132.026\n",
            "[4850]\tvalid_0's rmse: 132.014\n",
            "[4900]\tvalid_0's rmse: 132.011\n",
            "[4950]\tvalid_0's rmse: 132.006\n",
            "[5000]\tvalid_0's rmse: 131.998\n",
            "[5050]\tvalid_0's rmse: 131.993\n",
            "[5100]\tvalid_0's rmse: 131.987\n",
            "[5150]\tvalid_0's rmse: 131.981\n",
            "[5200]\tvalid_0's rmse: 131.971\n",
            "[5250]\tvalid_0's rmse: 131.966\n",
            "[5300]\tvalid_0's rmse: 131.96\n",
            "[5350]\tvalid_0's rmse: 131.954\n",
            "[5400]\tvalid_0's rmse: 131.948\n",
            "[5450]\tvalid_0's rmse: 131.943\n",
            "[5500]\tvalid_0's rmse: 131.934\n",
            "[5550]\tvalid_0's rmse: 131.928\n",
            "[5600]\tvalid_0's rmse: 131.922\n",
            "[5650]\tvalid_0's rmse: 131.915\n",
            "[5700]\tvalid_0's rmse: 131.91\n",
            "[5750]\tvalid_0's rmse: 131.902\n",
            "[5800]\tvalid_0's rmse: 131.896\n",
            "[5850]\tvalid_0's rmse: 131.894\n",
            "[5900]\tvalid_0's rmse: 131.886\n",
            "[5950]\tvalid_0's rmse: 131.882\n",
            "[6000]\tvalid_0's rmse: 131.877\n",
            "[6050]\tvalid_0's rmse: 131.873\n",
            "[6100]\tvalid_0's rmse: 131.87\n",
            "[6150]\tvalid_0's rmse: 131.863\n",
            "[6200]\tvalid_0's rmse: 131.855\n",
            "[6250]\tvalid_0's rmse: 131.849\n",
            "[6300]\tvalid_0's rmse: 131.847\n",
            "[6350]\tvalid_0's rmse: 131.84\n",
            "[6400]\tvalid_0's rmse: 131.833\n",
            "[6450]\tvalid_0's rmse: 131.826\n",
            "[6500]\tvalid_0's rmse: 131.82\n",
            "[6550]\tvalid_0's rmse: 131.816\n",
            "[6600]\tvalid_0's rmse: 131.811\n",
            "[6650]\tvalid_0's rmse: 131.81\n",
            "[6700]\tvalid_0's rmse: 131.802\n",
            "[6750]\tvalid_0's rmse: 131.797\n",
            "[6800]\tvalid_0's rmse: 131.792\n",
            "[6850]\tvalid_0's rmse: 131.783\n",
            "[6900]\tvalid_0's rmse: 131.781\n",
            "[6950]\tvalid_0's rmse: 131.776\n",
            "[7000]\tvalid_0's rmse: 131.771\n",
            "[7050]\tvalid_0's rmse: 131.768\n",
            "[7100]\tvalid_0's rmse: 131.762\n",
            "[7150]\tvalid_0's rmse: 131.755\n",
            "[7200]\tvalid_0's rmse: 131.751\n",
            "[7250]\tvalid_0's rmse: 131.742\n",
            "[7300]\tvalid_0's rmse: 131.742\n",
            "[7350]\tvalid_0's rmse: 131.737\n",
            "[7400]\tvalid_0's rmse: 131.732\n",
            "[7450]\tvalid_0's rmse: 131.727\n",
            "[7500]\tvalid_0's rmse: 131.724\n",
            "[7550]\tvalid_0's rmse: 131.719\n",
            "[7600]\tvalid_0's rmse: 131.715\n",
            "[7650]\tvalid_0's rmse: 131.708\n",
            "[7700]\tvalid_0's rmse: 131.707\n",
            "[7750]\tvalid_0's rmse: 131.7\n",
            "[7800]\tvalid_0's rmse: 131.696\n",
            "[7850]\tvalid_0's rmse: 131.693\n",
            "[7900]\tvalid_0's rmse: 131.689\n",
            "[7950]\tvalid_0's rmse: 131.687\n",
            "[8000]\tvalid_0's rmse: 131.68\n",
            "[8050]\tvalid_0's rmse: 131.677\n",
            "[8100]\tvalid_0's rmse: 131.676\n",
            "[8150]\tvalid_0's rmse: 131.671\n",
            "[8200]\tvalid_0's rmse: 131.666\n",
            "[8250]\tvalid_0's rmse: 131.663\n",
            "[8300]\tvalid_0's rmse: 131.661\n",
            "[8350]\tvalid_0's rmse: 131.654\n",
            "[8400]\tvalid_0's rmse: 131.649\n",
            "[8450]\tvalid_0's rmse: 131.645\n",
            "[8500]\tvalid_0's rmse: 131.643\n",
            "[8550]\tvalid_0's rmse: 131.64\n",
            "[8600]\tvalid_0's rmse: 131.636\n",
            "[8650]\tvalid_0's rmse: 131.629\n",
            "[8700]\tvalid_0's rmse: 131.626\n",
            "[8750]\tvalid_0's rmse: 131.621\n",
            "[8800]\tvalid_0's rmse: 131.619\n",
            "[8850]\tvalid_0's rmse: 131.615\n",
            "[8900]\tvalid_0's rmse: 131.611\n",
            "[8950]\tvalid_0's rmse: 131.608\n",
            "[9000]\tvalid_0's rmse: 131.607\n",
            "[9050]\tvalid_0's rmse: 131.602\n",
            "[9100]\tvalid_0's rmse: 131.599\n",
            "[9150]\tvalid_0's rmse: 131.594\n",
            "[9200]\tvalid_0's rmse: 131.592\n",
            "[9250]\tvalid_0's rmse: 131.586\n",
            "[9300]\tvalid_0's rmse: 131.581\n",
            "[9350]\tvalid_0's rmse: 131.577\n",
            "[9400]\tvalid_0's rmse: 131.574\n",
            "[9450]\tvalid_0's rmse: 131.571\n",
            "[9500]\tvalid_0's rmse: 131.568\n",
            "[9550]\tvalid_0's rmse: 131.565\n",
            "[9600]\tvalid_0's rmse: 131.561\n",
            "[9650]\tvalid_0's rmse: 131.558\n",
            "[9700]\tvalid_0's rmse: 131.555\n",
            "[9750]\tvalid_0's rmse: 131.55\n",
            "[9800]\tvalid_0's rmse: 131.548\n",
            "[9850]\tvalid_0's rmse: 131.543\n",
            "[9900]\tvalid_0's rmse: 131.543\n",
            "[9950]\tvalid_0's rmse: 131.537\n",
            "[10000]\tvalid_0's rmse: 131.537\n",
            "Did not meet early stopping. Best iteration is:\n",
            "[9989]\tvalid_0's rmse: 131.536\n",
            "Training until validation scores don't improve for 100 rounds.\n",
            "[50]\tvalid_0's rmse: 134.691\n",
            "[100]\tvalid_0's rmse: 131.978\n",
            "[150]\tvalid_0's rmse: 131.456\n",
            "[200]\tvalid_0's rmse: 131.176\n",
            "[250]\tvalid_0's rmse: 130.918\n",
            "[300]\tvalid_0's rmse: 130.635\n",
            "[350]\tvalid_0's rmse: 130.458\n",
            "[400]\tvalid_0's rmse: 130.218\n",
            "[450]\tvalid_0's rmse: 130.077\n",
            "[500]\tvalid_0's rmse: 129.925\n",
            "[550]\tvalid_0's rmse: 129.816\n",
            "[600]\tvalid_0's rmse: 129.763\n",
            "[650]\tvalid_0's rmse: 129.737\n",
            "[700]\tvalid_0's rmse: 129.687\n",
            "[750]\tvalid_0's rmse: 129.607\n",
            "[800]\tvalid_0's rmse: 129.607\n",
            "[850]\tvalid_0's rmse: 129.594\n",
            "[900]\tvalid_0's rmse: 129.578\n",
            "[950]\tvalid_0's rmse: 129.523\n",
            "[1000]\tvalid_0's rmse: 129.514\n",
            "[1050]\tvalid_0's rmse: 129.48\n",
            "[1100]\tvalid_0's rmse: 129.457\n",
            "[1150]\tvalid_0's rmse: 129.448\n",
            "[1200]\tvalid_0's rmse: 129.417\n",
            "[1250]\tvalid_0's rmse: 129.401\n",
            "[1300]\tvalid_0's rmse: 129.399\n",
            "[1350]\tvalid_0's rmse: 129.414\n",
            "Early stopping, best iteration is:\n",
            "[1264]\tvalid_0's rmse: 129.383\n",
            "Training until validation scores don't improve for 100 rounds.\n",
            "[50]\tvalid_0's rmse: 131.158\n",
            "[100]\tvalid_0's rmse: 130.041\n",
            "[150]\tvalid_0's rmse: 129.428\n",
            "[200]\tvalid_0's rmse: 129.251\n",
            "[250]\tvalid_0's rmse: 129.133\n",
            "[300]\tvalid_0's rmse: 129.149\n",
            "[350]\tvalid_0's rmse: 129.09\n",
            "Early stopping, best iteration is:\n",
            "[282]\tvalid_0's rmse: 129.064\n",
            "Training until validation scores don't improve for 100 rounds.\n",
            "[50]\tvalid_0's rmse: 129.8\n",
            "[100]\tvalid_0's rmse: 129.325\n",
            "[150]\tvalid_0's rmse: 129.239\n",
            "[200]\tvalid_0's rmse: 129.172\n",
            "[250]\tvalid_0's rmse: 129.209\n",
            "Early stopping, best iteration is:\n",
            "[170]\tvalid_0's rmse: 129.157\n",
            "Training until validation scores don't improve for 100 rounds.\n",
            "[50]\tvalid_0's rmse: 129.217\n",
            "[100]\tvalid_0's rmse: 129.149\n",
            "[150]\tvalid_0's rmse: 129.255\n",
            "[200]\tvalid_0's rmse: 129.394\n",
            "Early stopping, best iteration is:\n",
            "[100]\tvalid_0's rmse: 129.149\n",
            "Training until validation scores don't improve for 100 rounds.\n",
            "[50]\tvalid_0's rmse: 129.104\n",
            "[100]\tvalid_0's rmse: 129.233\n",
            "Early stopping, best iteration is:\n",
            "[43]\tvalid_0's rmse: 129.032\n",
            "Training until validation scores don't improve for 100 rounds.\n",
            "[50]\tvalid_0's rmse: 129.087\n",
            "[100]\tvalid_0's rmse: 129.464\n",
            "Early stopping, best iteration is:\n",
            "[42]\tvalid_0's rmse: 129.062\n",
            "Training until validation scores don't improve for 100 rounds.\n",
            "[50]\tvalid_0's rmse: 129.054\n",
            "[100]\tvalid_0's rmse: 129.405\n",
            "Early stopping, best iteration is:\n",
            "[38]\tvalid_0's rmse: 128.911\n",
            "Training until validation scores don't improve for 100 rounds.\n",
            "[50]\tvalid_0's rmse: 129.087\n",
            "[100]\tvalid_0's rmse: 129.445\n",
            "Early stopping, best iteration is:\n",
            "[47]\tvalid_0's rmse: 129.063\n",
            "Training until validation scores don't improve for 100 rounds.\n",
            "[50]\tvalid_0's rmse: 128.878\n",
            "[100]\tvalid_0's rmse: 129.165\n",
            "Early stopping, best iteration is:\n",
            "[41]\tvalid_0's rmse: 128.768\n",
            "Training until validation scores don't improve for 100 rounds.\n",
            "[50]\tvalid_0's rmse: 128.929\n",
            "[100]\tvalid_0's rmse: 129.385\n",
            "Early stopping, best iteration is:\n",
            "[40]\tvalid_0's rmse: 128.875\n",
            "Training until validation scores don't improve for 100 rounds.\n",
            "[50]\tvalid_0's rmse: 128.908\n",
            "[100]\tvalid_0's rmse: 129.323\n",
            "Early stopping, best iteration is:\n",
            "[44]\tvalid_0's rmse: 128.853\n",
            "Training until validation scores don't improve for 100 rounds.\n",
            "[50]\tvalid_0's rmse: 128.873\n",
            "[100]\tvalid_0's rmse: 129.274\n",
            "Early stopping, best iteration is:\n",
            "[42]\tvalid_0's rmse: 128.872\n",
            "Training until validation scores don't improve for 100 rounds.\n",
            "[50]\tvalid_0's rmse: 128.929\n",
            "[100]\tvalid_0's rmse: 129.128\n",
            "Early stopping, best iteration is:\n",
            "[44]\tvalid_0's rmse: 128.868\n"
          ],
          "name": "stdout"
        }
      ]
    },
    {
      "cell_type": "code",
      "metadata": {
        "colab": {
          "base_uri": "https://localhost:8080/",
          "height": 428
        },
        "id": "4A0iJug4-f1k",
        "outputId": "19dc7d81-2e90-42af-8f59-dfc38ff3429d"
      },
      "source": [
        "plt.figure(figsize=(16,8))\n",
        "plt.plot(count, RMSE_list, marker=\"o\")\n",
        "plt.title(\"RMSE Values\", fontsize=30)\n",
        "plt.xlabel(\"max_depth\", fontsize=20)\n",
        "plt.ylabel(\"RMSE Value\", fontsize=20)\n",
        "plt.grid(True)"
      ],
      "execution_count": 122,
      "outputs": [
        {
          "output_type": "display_data",
          "data": {
            "image/png": "[encoded data removed]",
            "text/plain": [
              "<Figure size 1152x576 with 1 Axes>"
            ]
          },
          "metadata": {
            "tags": [],
            "needs_background": "light"
          }
        }
      ]
    },
    {
      "cell_type": "code",
      "metadata": {
        "id": "VRqsa11l-lIp"
      },
      "source": [
        "params = {'metric': 'rmse',\n",
        "          'max_depth' : 10}"
      ],
      "execution_count": 123,
      "outputs": []
    },
    {
      "cell_type": "code",
      "metadata": {
        "colab": {
          "base_uri": "https://localhost:8080/"
        },
        "id": "K7bXR-jA_JcF",
        "outputId": "51696c0a-89a2-48fa-9448-902d2cd0ff09"
      },
      "source": [
        "gbm = lgb.train(params,\n",
        "                lgb_train,\n",
        "                valid_sets=lgb_eval,\n",
        "                num_boost_round=10000,\n",
        "                early_stopping_rounds=100,\n",
        "                verbose_eval=50)"
      ],
      "execution_count": 124,
      "outputs": [
        {
          "output_type": "stream",
          "text": [
            "Training until validation scores don't improve for 100 rounds.\n",
            "[50]\tvalid_0's rmse: 128.878\n",
            "[100]\tvalid_0's rmse: 129.165\n",
            "Early stopping, best iteration is:\n",
            "[41]\tvalid_0's rmse: 128.768\n"
          ],
          "name": "stdout"
        }
      ]
    },
    {
      "cell_type": "code",
      "metadata": {
        "id": "8YdXs4PA_KoE"
      },
      "source": [
        ""
      ],
      "execution_count": null,
      "outputs": []
    },
    {
      "cell_type": "markdown",
      "metadata": {
        "id": "Ek7L-p3bAH_C"
      },
      "source": [
        "testデータの読み込み"
      ]
    },
    {
      "cell_type": "code",
      "metadata": {
        "id": "ynACbYJQAG3m"
      },
      "source": [
        "mydata = pd.read_csv(\"test.csv\")"
      ],
      "execution_count": 42,
      "outputs": []
    },
    {
      "cell_type": "code",
      "metadata": {
        "colab": {
          "base_uri": "https://localhost:8080/"
        },
        "id": "oR8OpTfnAG6k",
        "outputId": "9356949b-5bfc-4365-cfed-6a5563de68c1"
      },
      "source": [
        "mydata.info()"
      ],
      "execution_count": 43,
      "outputs": [
        {
          "output_type": "stream",
          "text": [
            "<class 'pandas.core.frame.DataFrame'>\n",
            "RangeIndex: 18528 entries, 0 to 18527\n",
            "Data columns (total 28 columns):\n",
            " #   Column                  Non-Null Count  Dtype  \n",
            "---  ------                  --------------  -----  \n",
            " 0   id                      18528 non-null  int64  \n",
            " 1   accommodates            18528 non-null  int64  \n",
            " 2   amenities               18528 non-null  object \n",
            " 3   bathrooms               18475 non-null  float64\n",
            " 4   bed_type                18528 non-null  object \n",
            " 5   bedrooms                18508 non-null  float64\n",
            " 6   beds                    18493 non-null  float64\n",
            " 7   cancellation_policy     18528 non-null  object \n",
            " 8   city                    18528 non-null  object \n",
            " 9   cleaning_fee            18528 non-null  object \n",
            " 10  description             18528 non-null  object \n",
            " 11  first_review            14572 non-null  object \n",
            " 12  host_has_profile_pic    18488 non-null  object \n",
            " 13  host_identity_verified  18488 non-null  object \n",
            " 14  host_response_rate      13933 non-null  object \n",
            " 15  host_since              18488 non-null  object \n",
            " 16  instant_bookable        18528 non-null  object \n",
            " 17  last_review             14581 non-null  object \n",
            " 18  latitude                18528 non-null  float64\n",
            " 19  longitude               18528 non-null  float64\n",
            " 20  name                    18528 non-null  object \n",
            " 21  neighbourhood           16816 non-null  object \n",
            " 22  number_of_reviews       18528 non-null  int64  \n",
            " 23  property_type           18528 non-null  object \n",
            " 24  review_scores_rating    14362 non-null  float64\n",
            " 25  room_type               18528 non-null  object \n",
            " 26  thumbnail_url           16457 non-null  object \n",
            " 27  zipcode                 18278 non-null  object \n",
            "dtypes: float64(6), int64(3), object(19)\n",
            "memory usage: 4.0+ MB\n"
          ],
          "name": "stdout"
        }
      ]
    },
    {
      "cell_type": "code",
      "metadata": {
        "colab": {
          "base_uri": "https://localhost:8080/"
        },
        "id": "OkkWRP0WAG94",
        "outputId": "6a80f492-21ce-42b5-8d12-cd5663ff2b7b"
      },
      "source": [
        "print(mydata.isnull().sum())"
      ],
      "execution_count": 44,
      "outputs": [
        {
          "output_type": "stream",
          "text": [
            "id                           0\n",
            "accommodates                 0\n",
            "amenities                    0\n",
            "bathrooms                   53\n",
            "bed_type                     0\n",
            "bedrooms                    20\n",
            "beds                        35\n",
            "cancellation_policy          0\n",
            "city                         0\n",
            "cleaning_fee                 0\n",
            "description                  0\n",
            "first_review              3956\n",
            "host_has_profile_pic        40\n",
            "host_identity_verified      40\n",
            "host_response_rate        4595\n",
            "host_since                  40\n",
            "instant_bookable             0\n",
            "last_review               3947\n",
            "latitude                     0\n",
            "longitude                    0\n",
            "name                         0\n",
            "neighbourhood             1712\n",
            "number_of_reviews            0\n",
            "property_type                0\n",
            "review_scores_rating      4166\n",
            "room_type                    0\n",
            "thumbnail_url             2071\n",
            "zipcode                    250\n",
            "dtype: int64\n"
          ],
          "name": "stdout"
        }
      ]
    },
    {
      "cell_type": "markdown",
      "metadata": {
        "id": "FjrjQUE4AW-5"
      },
      "source": [
        "欠損値の補間"
      ]
    },
    {
      "cell_type": "code",
      "metadata": {
        "id": "0bw1IhkkAHAF"
      },
      "source": [
        "mode_val_pic2 = mydata['host_has_profile_pic'].mode().iloc[0]\n",
        "mydata['host_has_profile_pic'] = mydata['host_has_profile_pic'].fillna(mode_val_pic2)"
      ],
      "execution_count": 45,
      "outputs": []
    },
    {
      "cell_type": "code",
      "metadata": {
        "id": "3bV0snN1AhK5"
      },
      "source": [
        "mode_val_identity2 = mydata['host_identity_verified'].mode().iloc[0]\n",
        "mydata['host_identity_verified'] = mydata['host_identity_verified'].fillna(mode_val_identity2)"
      ],
      "execution_count": 46,
      "outputs": []
    },
    {
      "cell_type": "code",
      "metadata": {
        "id": "XqEQhK2KAhON"
      },
      "source": [
        "mode_val_since2 = mydata['host_since'].mode().iloc[0]\n",
        "mydata['host_since'] = mydata['host_since'].fillna(mode_val_since2)"
      ],
      "execution_count": 47,
      "outputs": []
    },
    {
      "cell_type": "code",
      "metadata": {
        "id": "UB-MyV2rAhRM"
      },
      "source": [
        "mode_val_zipcode2 = mydata['zipcode'].mode().iloc[0]\n",
        "mydata['zipcode'] = mydata['zipcode'].fillna(mode_val_zipcode2)"
      ],
      "execution_count": 48,
      "outputs": []
    },
    {
      "cell_type": "code",
      "metadata": {
        "id": "LnnM_b-qAhUV"
      },
      "source": [
        "mean_val_bath2 = mydata['bathrooms'].mean()\n",
        "mydata['bathrooms'] = mydata['bathrooms'].fillna(mean_val_bath2)"
      ],
      "execution_count": 49,
      "outputs": []
    },
    {
      "cell_type": "code",
      "metadata": {
        "id": "CyPx2nghAhW8"
      },
      "source": [
        "mean_val_bedrooms2 = mydata['bedrooms'].mean()\n",
        "mydata['bedrooms'] = mydata['bedrooms'].fillna(mean_val_bedrooms2)"
      ],
      "execution_count": 50,
      "outputs": []
    },
    {
      "cell_type": "code",
      "metadata": {
        "id": "a-p1Z_CVAhaA"
      },
      "source": [
        "mean_val_beds2 = mydata['beds'].mean()\n",
        "mydata['beds'] = mydata['beds'].fillna(mean_val_beds2)"
      ],
      "execution_count": 51,
      "outputs": []
    },
    {
      "cell_type": "code",
      "metadata": {
        "id": "XwFk60pAAhdI"
      },
      "source": [
        "mode_val_host2 = mydata['host_response_rate'].mode().iloc[0]\n",
        "mydata['host_response_rate'] = mydata['host_response_rate'].fillna(mode_val_host2)"
      ],
      "execution_count": 52,
      "outputs": []
    },
    {
      "cell_type": "code",
      "metadata": {
        "id": "z1p0tcdhAhgU"
      },
      "source": [
        "mode_val_last2 = mydata['last_review'].mode().iloc[0]\n",
        "mydata['last_review'] = mydata['last_review'].fillna(mode_val_last2)"
      ],
      "execution_count": 53,
      "outputs": []
    },
    {
      "cell_type": "code",
      "metadata": {
        "id": "At8eVLFnA9DT"
      },
      "source": [
        "mode_val_neighbour2 = mydata['neighbourhood'].mode().iloc[0]\n",
        "mydata['neighbourhood'] = mydata['neighbourhood'].fillna(mode_val_neighbour2)"
      ],
      "execution_count": 54,
      "outputs": []
    },
    {
      "cell_type": "code",
      "metadata": {
        "id": "D_ujpJOPA9GO"
      },
      "source": [
        "mode_val_first2 = mydata['first_review'].mode().iloc[0]\n",
        "mydata['first_review'] = mydata['first_review'].fillna(mode_val_first2)"
      ],
      "execution_count": 55,
      "outputs": []
    },
    {
      "cell_type": "code",
      "metadata": {
        "id": "JLnrltdKA9Jp"
      },
      "source": [
        "mean_val_scores2 = mydata['review_scores_rating'].mean()\n",
        "mydata['review_scores_rating'] = mydata['review_scores_rating'].fillna(mean_val_scores2)"
      ],
      "execution_count": 56,
      "outputs": []
    },
    {
      "cell_type": "code",
      "metadata": {
        "id": "shtfoQwnA9Lu"
      },
      "source": [
        "mode_val_thumbnail2 = mydata['thumbnail_url'].mode().iloc[0]\n",
        "mydata['thumbnail_url'] = mydata['thumbnail_url'].fillna(mode_val_thumbnail2)"
      ],
      "execution_count": 57,
      "outputs": []
    },
    {
      "cell_type": "code",
      "metadata": {
        "id": "5KjbCz0mA9PG"
      },
      "source": [
        "def change_tf(x):\n",
        "    if x=='t':\n",
        "        return 1\n",
        "    elif x=='f':\n",
        "        return 0\n",
        "\n",
        "mydata['cleaning_fee'] = mydata['cleaning_fee'].apply(change_tf)"
      ],
      "execution_count": 58,
      "outputs": []
    },
    {
      "cell_type": "code",
      "metadata": {
        "id": "K3-W0jaZA9Rl"
      },
      "source": [
        "select_columns =['accommodates','room_type','bed_type','bathrooms','bedrooms','beds','review_scores_rating','number_of_reviews','cleaning_fee']"
      ],
      "execution_count": 59,
      "outputs": []
    },
    {
      "cell_type": "code",
      "metadata": {
        "id": "Ju-UShpnA9VH"
      },
      "source": [
        "dummy_data2 = pd.get_dummies(mydata[select_columns], drop_first=True)"
      ],
      "execution_count": 60,
      "outputs": []
    },
    {
      "cell_type": "code",
      "metadata": {
        "id": "RAQPObfIA9W-"
      },
      "source": [
        "y_pred_Unknown = gbm.predict(dummy_data2)"
      ],
      "execution_count": 61,
      "outputs": []
    },
    {
      "cell_type": "code",
      "metadata": {
        "id": "u8yOyevyA9bo"
      },
      "source": [
        "mydata['ab']= y_pred_Unknown"
      ],
      "execution_count": 62,
      "outputs": []
    },
    {
      "cell_type": "code",
      "metadata": {
        "id": "Q5OzLs-cDYuQ"
      },
      "source": [
        "mydata[['id', 'ab']].to_csv('./submit_2021_1.csv', header=False, index=False)"
      ],
      "execution_count": 63,
      "outputs": []
    },
    {
      "cell_type": "code",
      "metadata": {
        "id": "bSyH5ImgDYxW"
      },
      "source": [
        ""
      ],
      "execution_count": null,
      "outputs": []
    },
    {
      "cell_type": "code",
      "metadata": {
        "id": "M7J5Tg25DY1I"
      },
      "source": [
        ""
      ],
      "execution_count": null,
      "outputs": []
    },
    {
      "cell_type": "markdown",
      "metadata": {
        "id": "KskE6wzHTrBd"
      },
      "source": [
        "lightgbm＋onehot＋欠損値補間なし"
      ]
    },
    {
      "cell_type": "code",
      "metadata": {
        "id": "ypQ7-fZFDY3I"
      },
      "source": [
        "sample = pd.read_csv('train.csv')"
      ],
      "execution_count": 126,
      "outputs": []
    },
    {
      "cell_type": "code",
      "metadata": {
        "id": "bM7AE4wqUCAv"
      },
      "source": [
        "y = sample['y']"
      ],
      "execution_count": 127,
      "outputs": []
    },
    {
      "cell_type": "code",
      "metadata": {
        "id": "VuXZlwe2UCED"
      },
      "source": [
        "sample = sample[sample['y']>=10]"
      ],
      "execution_count": 128,
      "outputs": []
    },
    {
      "cell_type": "code",
      "metadata": {
        "id": "h6uh6kRjUCJJ"
      },
      "source": [
        "select_columns = ['accommodates','room_type','bed_type','bathrooms','bedrooms','beds','review_scores_rating','number_of_reviews','cleaning_fee']"
      ],
      "execution_count": 129,
      "outputs": []
    },
    {
      "cell_type": "code",
      "metadata": {
        "id": "frGcGd4WUCLG"
      },
      "source": [
        "def change_tf(x):\n",
        "    if x=='t':\n",
        "        return 1\n",
        "    elif x=='f':\n",
        "        return 0"
      ],
      "execution_count": 130,
      "outputs": []
    },
    {
      "cell_type": "code",
      "metadata": {
        "id": "B_Kn3xLuUCNt"
      },
      "source": [
        "sample['cleaning_fee'] = sample['cleaning_fee'].apply(change_tf)\n",
        "sample['host_identity_verified'] = sample['host_identity_verified'].apply(change_tf)\n",
        "sample['instant_bookable'] = sample['instant_bookable'].apply(change_tf)"
      ],
      "execution_count": 131,
      "outputs": []
    },
    {
      "cell_type": "code",
      "metadata": {
        "id": "OtpqE9yaUCQk"
      },
      "source": [
        "dummy_data = pd.get_dummies(sample[select_columns], drop_first=True)"
      ],
      "execution_count": 132,
      "outputs": []
    },
    {
      "cell_type": "code",
      "metadata": {
        "id": "Nfp8ww_AUCTF"
      },
      "source": [
        "X_train,X_test,y_train,y_test = train_test_split(dummy_data, sample['y'], random_state = 1234,test_size=0.25)"
      ],
      "execution_count": 134,
      "outputs": []
    },
    {
      "cell_type": "code",
      "metadata": {
        "id": "FppV6FPUUCV7"
      },
      "source": [
        "lgb_train = lgb.Dataset(X_train, y_train)\n",
        "lgb_eval = lgb.Dataset(X_test, y_test)"
      ],
      "execution_count": 135,
      "outputs": []
    },
    {
      "cell_type": "code",
      "metadata": {
        "id": "eLETqEo1UCYo"
      },
      "source": [
        "params = {'metric': 'rmse',\n",
        "          'max_depth' : 12}"
      ],
      "execution_count": 136,
      "outputs": []
    },
    {
      "cell_type": "code",
      "metadata": {
        "colab": {
          "base_uri": "https://localhost:8080/"
        },
        "id": "BcBEKLBtUCa0",
        "outputId": "834cc6e6-e8e7-4428-9afe-6cfa3232f8ed"
      },
      "source": [
        "gbm = lgb.train(params,\n",
        "                lgb_train,\n",
        "                valid_sets=lgb_eval,\n",
        "                num_boost_round=10000,\n",
        "                early_stopping_rounds=100,\n",
        "                verbose_eval=50)"
      ],
      "execution_count": 137,
      "outputs": [
        {
          "output_type": "stream",
          "text": [
            "Training until validation scores don't improve for 100 rounds.\n",
            "[50]\tvalid_0's rmse: 118.473\n",
            "[100]\tvalid_0's rmse: 118.689\n",
            "Early stopping, best iteration is:\n",
            "[42]\tvalid_0's rmse: 118.392\n"
          ],
          "name": "stdout"
        }
      ]
    },
    {
      "cell_type": "code",
      "metadata": {
        "id": "CNPGLLCMWSat"
      },
      "source": [
        "predicted = gbm.predict(X_test)"
      ],
      "execution_count": 138,
      "outputs": []
    },
    {
      "cell_type": "code",
      "metadata": {
        "id": "lAT9Lj0mWSe_"
      },
      "source": [
        "from sklearn.metrics import mean_squared_error\n",
        "from sklearn.metrics import r2_score\n",
        " \n",
        "#予測値と正解値を描写する関数\n",
        "def True_Pred_map(pred_df):\n",
        "    RMSE = np.sqrt(mean_squared_error(pred_df['true'], pred_df['pred']))\n",
        "    R2 = r2_score(pred_df['true'], pred_df['pred']) \n",
        "    plt.figure(figsize=(8,8))\n",
        "    ax = plt.subplot(111)\n",
        "    ax.scatter('true', 'pred', data=pred_df)\n",
        "    ax.set_xlabel('True Value', fontsize=15)\n",
        "    ax.set_ylabel('Pred Value', fontsize=15)\n",
        "    ax.set_xlim(pred_df.min().min()-0.1 , pred_df.max().max()+0.1)\n",
        "    ax.set_ylim(pred_df.min().min()-0.1 , pred_df.max().max()+0.1)\n",
        "    x = np.linspace(pred_df.min().min()-0.1, pred_df.max().max()+0.1, 2)\n",
        "    y = x\n",
        "    ax.plot(x,y,'r-')\n",
        "    plt.text(0.1, 0.9, 'RMSE = {}'.format(str(round(RMSE, 5))), transform=ax.transAxes, fontsize=15)\n",
        "    plt.text(0.1, 0.8, 'R^2 = {}'.format(str(round(R2, 5))), transform=ax.transAxes, fontsize=15)"
      ],
      "execution_count": 139,
      "outputs": []
    },
    {
      "cell_type": "code",
      "metadata": {
        "id": "hvqC39FfWWD0"
      },
      "source": [
        "pred_df = pd.concat([y_test.reset_index(drop=True), pd.Series(predicted)], axis=1)\n",
        "pred_df.columns = ['true', 'pred']"
      ],
      "execution_count": 140,
      "outputs": []
    },
    {
      "cell_type": "code",
      "metadata": {
        "colab": {
          "base_uri": "https://localhost:8080/",
          "height": 502
        },
        "id": "qsIf8vz9WXRc",
        "outputId": "4f2a6b42-7f32-44e2-de78-fa974727f8f5"
      },
      "source": [
        "True_Pred_map(pred_df)"
      ],
      "execution_count": 141,
      "outputs": [
        {
          "output_type": "display_data",
          "data": {
            "image/png": "[encoded data removed]",
            "text/plain": [
              "<Figure size 576x576 with 1 Axes>"
            ]
          },
          "metadata": {
            "tags": [],
            "needs_background": "light"
          }
        }
      ]
    },
    {
      "cell_type": "code",
      "metadata": {
        "colab": {
          "base_uri": "https://localhost:8080/"
        },
        "id": "jaT8v23sWWG9",
        "outputId": "b5c76852-be34-4a49-fb39-29403837edb5"
      },
      "source": [
        "RMSE_list = []\n",
        "count = []\n",
        "for i in range(1, 15):\n",
        "    params = {'boosting_type': 'gbdt',\n",
        "          'objective': 'regression',\n",
        "          'metric': 'rmse',\n",
        "          'max_depth' : i}\n",
        "    \n",
        "    gbm = lgb.train(params,\n",
        "                lgb_train,\n",
        "                num_boost_round=10000,\n",
        "                valid_sets=lgb_eval,\n",
        "                early_stopping_rounds=100,\n",
        "                verbose_eval=50)\n",
        "    \n",
        "    predicted = gbm.predict(X_test)\n",
        "    pred_df = pd.concat([y_test.reset_index(drop=True), pd.Series(predicted)], axis=1)\n",
        "    pred_df.columns = ['true', 'pred']\n",
        "    RMSE = np.sqrt(mean_squared_error(pred_df['true'], pred_df['pred']))\n",
        "    RMSE_list.append(RMSE)\n",
        "    count.append(i)"
      ],
      "execution_count": 142,
      "outputs": [
        {
          "output_type": "stream",
          "text": [
            "Training until validation scores don't improve for 100 rounds.\n",
            "[50]\tvalid_0's rmse: 127.705\n",
            "[100]\tvalid_0's rmse: 124.634\n",
            "[150]\tvalid_0's rmse: 123.88\n",
            "[200]\tvalid_0's rmse: 123.617\n",
            "[250]\tvalid_0's rmse: 123.448\n",
            "[300]\tvalid_0's rmse: 123.318\n",
            "[350]\tvalid_0's rmse: 123.219\n",
            "[400]\tvalid_0's rmse: 123.153\n",
            "[450]\tvalid_0's rmse: 123.1\n",
            "[500]\tvalid_0's rmse: 123.076\n",
            "[550]\tvalid_0's rmse: 123.048\n",
            "[600]\tvalid_0's rmse: 123.033\n",
            "[650]\tvalid_0's rmse: 123.011\n",
            "[700]\tvalid_0's rmse: 122.996\n",
            "[750]\tvalid_0's rmse: 122.987\n",
            "[800]\tvalid_0's rmse: 122.979\n",
            "[850]\tvalid_0's rmse: 122.979\n",
            "[900]\tvalid_0's rmse: 122.976\n",
            "[950]\tvalid_0's rmse: 122.971\n",
            "[1000]\tvalid_0's rmse: 122.974\n",
            "[1050]\tvalid_0's rmse: 122.975\n",
            "Early stopping, best iteration is:\n",
            "[963]\tvalid_0's rmse: 122.969\n",
            "Training until validation scores don't improve for 100 rounds.\n",
            "[50]\tvalid_0's rmse: 120.762\n",
            "[100]\tvalid_0's rmse: 119.332\n",
            "[150]\tvalid_0's rmse: 119.066\n",
            "[200]\tvalid_0's rmse: 119.094\n",
            "[250]\tvalid_0's rmse: 119.113\n",
            "Early stopping, best iteration is:\n",
            "[169]\tvalid_0's rmse: 119.051\n",
            "Training until validation scores don't improve for 100 rounds.\n",
            "[50]\tvalid_0's rmse: 118.991\n",
            "[100]\tvalid_0's rmse: 118.562\n",
            "[150]\tvalid_0's rmse: 118.521\n",
            "[200]\tvalid_0's rmse: 118.477\n",
            "Early stopping, best iteration is:\n",
            "[130]\tvalid_0's rmse: 118.452\n",
            "Training until validation scores don't improve for 100 rounds.\n",
            "[50]\tvalid_0's rmse: 118.143\n",
            "[100]\tvalid_0's rmse: 118.093\n",
            "[150]\tvalid_0's rmse: 117.981\n",
            "[200]\tvalid_0's rmse: 118.033\n",
            "[250]\tvalid_0's rmse: 118.107\n",
            "Early stopping, best iteration is:\n",
            "[151]\tvalid_0's rmse: 117.966\n",
            "Training until validation scores don't improve for 100 rounds.\n",
            "[50]\tvalid_0's rmse: 118.139\n",
            "[100]\tvalid_0's rmse: 118.137\n",
            "[150]\tvalid_0's rmse: 118.187\n",
            "Early stopping, best iteration is:\n",
            "[71]\tvalid_0's rmse: 118.085\n",
            "Training until validation scores don't improve for 100 rounds.\n",
            "[50]\tvalid_0's rmse: 118.397\n",
            "[100]\tvalid_0's rmse: 118.452\n",
            "Early stopping, best iteration is:\n",
            "[38]\tvalid_0's rmse: 118.263\n",
            "Training until validation scores don't improve for 100 rounds.\n",
            "[50]\tvalid_0's rmse: 118.319\n",
            "[100]\tvalid_0's rmse: 118.337\n",
            "Early stopping, best iteration is:\n",
            "[37]\tvalid_0's rmse: 118.225\n",
            "Training until validation scores don't improve for 100 rounds.\n",
            "[50]\tvalid_0's rmse: 118.354\n",
            "[100]\tvalid_0's rmse: 118.579\n",
            "Early stopping, best iteration is:\n",
            "[37]\tvalid_0's rmse: 118.251\n",
            "Training until validation scores don't improve for 100 rounds.\n",
            "[50]\tvalid_0's rmse: 118.403\n",
            "[100]\tvalid_0's rmse: 118.593\n",
            "Early stopping, best iteration is:\n",
            "[33]\tvalid_0's rmse: 118.366\n",
            "Training until validation scores don't improve for 100 rounds.\n",
            "[50]\tvalid_0's rmse: 118.378\n",
            "[100]\tvalid_0's rmse: 118.559\n",
            "[150]\tvalid_0's rmse: 118.695\n",
            "Early stopping, best iteration is:\n",
            "[52]\tvalid_0's rmse: 118.367\n",
            "Training until validation scores don't improve for 100 rounds.\n",
            "[50]\tvalid_0's rmse: 118.416\n",
            "[100]\tvalid_0's rmse: 118.533\n",
            "Early stopping, best iteration is:\n",
            "[34]\tvalid_0's rmse: 118.404\n",
            "Training until validation scores don't improve for 100 rounds.\n",
            "[50]\tvalid_0's rmse: 118.473\n",
            "[100]\tvalid_0's rmse: 118.689\n",
            "Early stopping, best iteration is:\n",
            "[42]\tvalid_0's rmse: 118.392\n",
            "Training until validation scores don't improve for 100 rounds.\n",
            "[50]\tvalid_0's rmse: 118.466\n",
            "[100]\tvalid_0's rmse: 118.736\n",
            "[150]\tvalid_0's rmse: 118.842\n",
            "Early stopping, best iteration is:\n",
            "[60]\tvalid_0's rmse: 118.419\n",
            "Training until validation scores don't improve for 100 rounds.\n",
            "[50]\tvalid_0's rmse: 118.53\n",
            "[100]\tvalid_0's rmse: 118.596\n",
            "Early stopping, best iteration is:\n",
            "[33]\tvalid_0's rmse: 118.425\n"
          ],
          "name": "stdout"
        }
      ]
    },
    {
      "cell_type": "code",
      "metadata": {
        "colab": {
          "base_uri": "https://localhost:8080/",
          "height": 432
        },
        "id": "7QFFG-7UWWJz",
        "outputId": "8fcdecb2-68ac-4d5f-915d-d6cf8d45e0de"
      },
      "source": [
        "plt.figure(figsize=(16,8))\n",
        "plt.plot(count, RMSE_list, marker=\"o\")\n",
        "plt.title(\"RMSE Values\", fontsize=30)\n",
        "plt.xlabel(\"max_depth\", fontsize=20)\n",
        "plt.ylabel(\"RMSE Value\", fontsize=20)\n",
        "plt.grid(True)"
      ],
      "execution_count": 143,
      "outputs": [
        {
          "output_type": "display_data",
          "data": {
            "image/png": "[encoded data removed]",
            "text/plain": [
              "<Figure size 1152x576 with 1 Axes>"
            ]
          },
          "metadata": {
            "tags": [],
            "needs_background": "light"
          }
        }
      ]
    },
    {
      "cell_type": "code",
      "metadata": {
        "id": "ENc4ttI-XIUe"
      },
      "source": [
        "params = {'metric': 'rmse',\n",
        "          'max_depth' : 4}"
      ],
      "execution_count": 144,
      "outputs": []
    },
    {
      "cell_type": "code",
      "metadata": {
        "colab": {
          "base_uri": "https://localhost:8080/"
        },
        "id": "gjDJe4M0XSD1",
        "outputId": "1d78171a-dcbb-46f9-a29e-aa76a35664a4"
      },
      "source": [
        "gbm = lgb.train(params,\n",
        "                lgb_train,\n",
        "                valid_sets=lgb_eval,\n",
        "                num_boost_round=10000,\n",
        "                early_stopping_rounds=100,\n",
        "                verbose_eval=50)"
      ],
      "execution_count": 145,
      "outputs": [
        {
          "output_type": "stream",
          "text": [
            "Training until validation scores don't improve for 100 rounds.\n",
            "[50]\tvalid_0's rmse: 118.143\n",
            "[100]\tvalid_0's rmse: 118.093\n",
            "[150]\tvalid_0's rmse: 117.981\n",
            "[200]\tvalid_0's rmse: 118.033\n",
            "[250]\tvalid_0's rmse: 118.107\n",
            "Early stopping, best iteration is:\n",
            "[151]\tvalid_0's rmse: 117.966\n"
          ],
          "name": "stdout"
        }
      ]
    },
    {
      "cell_type": "markdown",
      "metadata": {
        "id": "YySYeu1uXv5W"
      },
      "source": [
        "testデータを扱っていく"
      ]
    },
    {
      "cell_type": "code",
      "metadata": {
        "id": "IHF5zmZcXSG0"
      },
      "source": [
        "mydata = pd.read_csv(\"test.csv\")"
      ],
      "execution_count": 146,
      "outputs": []
    },
    {
      "cell_type": "code",
      "metadata": {
        "id": "zx35Wxo_XSJV"
      },
      "source": [
        "def change_tf(x):\n",
        "    if x=='t':\n",
        "        return 1\n",
        "    elif x=='f':\n",
        "        return 0\n",
        "\n",
        "mydata['cleaning_fee'] = mydata['cleaning_fee'].apply(change_tf)"
      ],
      "execution_count": 147,
      "outputs": []
    },
    {
      "cell_type": "code",
      "metadata": {
        "id": "JW1IMYQLXSMB"
      },
      "source": [
        "select_columns =['accommodates','room_type','bed_type','bathrooms','bedrooms','beds','review_scores_rating','number_of_reviews','cleaning_fee']\n",
        "dummy_data2 = pd.get_dummies(mydata[select_columns], drop_first=True)"
      ],
      "execution_count": 148,
      "outputs": []
    },
    {
      "cell_type": "code",
      "metadata": {
        "id": "bSbCQ8gRXSPG"
      },
      "source": [
        "y_pred_Unknown = gbm.predict(dummy_data2)"
      ],
      "execution_count": 149,
      "outputs": []
    },
    {
      "cell_type": "code",
      "metadata": {
        "colab": {
          "base_uri": "https://localhost:8080/"
        },
        "id": "VcqfVjTCZIaH",
        "outputId": "bd92a4cf-3dca-412d-b9d3-bc449ae7d636"
      },
      "source": [
        "y_pred_Unknown"
      ],
      "execution_count": 152,
      "outputs": [
        {
          "output_type": "execute_result",
          "data": {
            "text/plain": [
              "array([232.70389554, 154.88139779, 129.21268566, ..., 308.95620985,\n",
              "       143.3494907 ,  47.13177881])"
            ]
          },
          "metadata": {
            "tags": []
          },
          "execution_count": 152
        }
      ]
    },
    {
      "cell_type": "code",
      "metadata": {
        "id": "MglSolGyY4X7"
      },
      "source": [
        "mydata['ab']= y_pred_Unknown"
      ],
      "execution_count": 150,
      "outputs": []
    },
    {
      "cell_type": "code",
      "metadata": {
        "id": "kEvokdbMY4dO"
      },
      "source": [
        "mydata[['id', 'ab']].to_csv('./submit_2021_2.csv', header=False, index=False)"
      ],
      "execution_count": 153,
      "outputs": []
    },
    {
      "cell_type": "code",
      "metadata": {
        "id": "11d8It07Y4g9"
      },
      "source": [
        ""
      ],
      "execution_count": null,
      "outputs": []
    }
  ]
}